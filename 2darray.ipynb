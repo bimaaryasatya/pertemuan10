{
 "cells": [
  {
   "cell_type": "code",
   "execution_count": 1,
   "metadata": {},
   "outputs": [
    {
     "name": "stdout",
     "output_type": "stream",
     "text": [
      "6\n"
     ]
    }
   ],
   "source": [
    "list_2d = [[1,2,3],\n",
    "           [4,5,6]]\n",
    "print(list_2d[0])\n",
    "print(list_2d[1][2])"
   ]
  },
  {
   "cell_type": "code",
   "execution_count": 4,
   "metadata": {},
   "outputs": [
    {
     "name": "stdout",
     "output_type": "stream",
     "text": [
      "{'PAI': 4, 'GF': 5, 'K': 6}\n",
      "6\n",
      "Hari: Senin {'PAI': 4, 'GF': 5, 'K': 6}\n",
      "Hari: Selasa {'PAI': 10, 'GF': 20, 'K': 50}\n"
     ]
    }
   ],
   "source": [
    "data_kunjungan = {\n",
    "    'Senin'  : {'PAI' : 4,  'GF' : 5,  'K' : 6},\n",
    "    'Selasa' : {'PAI' : 10, 'GF' : 20, 'K' : 50}\n",
    "}\n",
    "#print(data_kunjungan['Senin'])\n",
    "#print(data_kunjungan['Senin']['K'])\n",
    "\n",
    "for hari,total in data_kunjungan.items():\n",
    "    print(f\"Hari: {hari} {total}\")"
   ]
  },
  {
   "cell_type": "code",
   "execution_count": 13,
   "metadata": {},
   "outputs": [
    {
     "name": "stdout",
     "output_type": "stream",
     "text": [
      "40\n",
      "[ 29  54 105]\n",
      "[ 12  76 100]\n",
      "[2 2 1]\n",
      "[ 5 60 40]\n",
      "[2 2 1]\n",
      "[20 40 60]\n"
     ]
    }
   ],
   "source": [
    "import numpy as np\n",
    "\n",
    "array_2d_numpy = np.array([\n",
    "    [3,4,5],\n",
    "    [6,10,60],\n",
    "    [20,40,40]\n",
    "    ])\n",
    "\n",
    "print(array_2d_numpy[2,1])\n",
    "jumlah_baris = np.sum(array_2d_numpy, axis=0)\n",
    "jumlah_kolom = np.sum(array_2d_numpy, axis=1)\n",
    "print(jumlah_baris)\n",
    "print(jumlah_kolom)\n",
    "\n",
    "# Melihat Index Tertinggi Tiap Baris\n",
    "nilai_max_baris = np.argmax(array_2d_numpy, axis=0)\n",
    "print(nilai_max_baris)\n",
    "\n",
    "# Melihat Nilai Tertinggi Tiap Baris\n",
    "nilai_max_baris_val = np.max(array_2d_numpy, axis=1)\n",
    "print(nilai_max_baris_val)\n",
    "\n",
    "# Melihat Index Tertinggi Tiap Kolom\n",
    "nilai_max_kolom = np.argmax(array_2d_numpy, axis=1)\n",
    "print(nilai_max_kolom)\n",
    "\n",
    "# Melihat Nilai Tertinggi Tiap Kolom\n",
    "nilai_max_kolom_val = np.max(array_2d_numpy, axis=0)\n",
    "print(nilai_max_kolom_val)"
   ]
  },
  {
   "cell_type": "code",
   "execution_count": 18,
   "metadata": {},
   "outputs": [
    {
     "name": "stdout",
     "output_type": "stream",
     "text": [
      "         senin  selasa\n",
      "laptop       1       3\n",
      "hp           4       6\n",
      "printer      5       7 \n",
      "\n",
      "     Senin  Selasa\n",
      "PAI      4      10\n",
      "GF       5      20\n",
      "K        6      50 \n",
      "\n",
      "         senin  selasa  rabu\n",
      "laptop       1       3     4\n",
      "hp           1       6     7\n",
      "printer      1       6     7 \n",
      "\n",
      "senin      3\n",
      "selasa    15\n",
      "rabu      18\n",
      "dtype: int64 \n",
      "\n",
      "laptop      8\n",
      "hp         14\n",
      "printer    14\n",
      "dtype: int64\n"
     ]
    }
   ],
   "source": [
    "import pandas as bear\n",
    "\n",
    "data = {\n",
    "    'senin' : [1,4,5],\n",
    "    'selasa' : [3,6,7],\n",
    "}\n",
    "df2 = bear.DataFrame(data, index=['laptop','hp','printer'])\n",
    "print(df2,'\\n')\n",
    "\n",
    "# ubah dictionary jadi dataframe\n",
    "data_kunjungan = {\n",
    "    'Senin'  : {'PAI' : 4,  'GF' : 5,  'K' : 6},\n",
    "    'Selasa' : {'PAI' : 10, 'GF' : 20, 'K' : 50}\n",
    "}\n",
    "print(bear.DataFrame(data_kunjungan),'\\n')\n",
    "\n",
    "array_2d = [\n",
    "    [1,3,4],\n",
    "    [1,6,7],\n",
    "    [1,6,7],\n",
    "]\n",
    "# ubah array jadi dataframe\n",
    "df1 = bear.DataFrame(array_2d, index=['laptop','hp','printer'], columns=['senin','selasa','rabu'])\n",
    "\n",
    "print(df1,'\\n')\n",
    "\n",
    "total_nilai_tiap_baris = df1.sum(axis=0)\n",
    "total_nilai_tiap_kolom = df1.sum(axis=1)\n",
    "print(total_nilai_tiap_baris,'\\n')\n",
    "print(total_nilai_tiap_kolom)"
   ]
  },
  {
   "cell_type": "code",
   "execution_count": null,
   "metadata": {},
   "outputs": [],
   "source": []
  }
 ],
 "metadata": {
  "kernelspec": {
   "display_name": "Python 3",
   "language": "python",
   "name": "python3"
  },
  "language_info": {
   "codemirror_mode": {
    "name": "ipython",
    "version": 3
   },
   "file_extension": ".py",
   "mimetype": "text/x-python",
   "name": "python",
   "nbconvert_exporter": "python",
   "pygments_lexer": "ipython3",
   "version": "3.12.2"
  }
 },
 "nbformat": 4,
 "nbformat_minor": 2
}
